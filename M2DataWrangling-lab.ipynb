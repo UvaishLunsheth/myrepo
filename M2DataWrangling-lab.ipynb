{
 "cells": [
  {
   "cell_type": "markdown",
   "metadata": {},
   "source": [
    "<p style=\"text-align:center\">\n",
    "    <a href=\"https://skills.network/?utm_medium=Exinfluencer&utm_source=Exinfluencer&utm_content=000026UJ&utm_term=10006555&utm_id=NA-SkillsNetwork-Channel-SkillsNetworkCoursesIBMDA0321ENSkillsNetwork928-2022-01-01\" target=\"_blank\">\n",
    "    <img src=\"https://cf-courses-data.s3.us.cloud-object-storage.appdomain.cloud/assets/logos/SN_web_lightmode.png\" width=\"200\" alt=\"Skills Network Logo\"  />\n",
    "    </a>\n",
    "</p>\n"
   ]
  },
  {
   "cell_type": "markdown",
   "metadata": {},
   "source": [
    "# **Data Wrangling Lab**\n"
   ]
  },
  {
   "cell_type": "markdown",
   "metadata": {},
   "source": [
    "Estimated time needed: **45 to 60** minutes\n"
   ]
  },
  {
   "cell_type": "markdown",
   "metadata": {},
   "source": [
    "In this assignment you will be performing data wrangling.\n"
   ]
  },
  {
   "cell_type": "markdown",
   "metadata": {},
   "source": [
    "## Objectives\n"
   ]
  },
  {
   "cell_type": "markdown",
   "metadata": {},
   "source": [
    "In this lab you will perform the following:\n"
   ]
  },
  {
   "cell_type": "markdown",
   "metadata": {},
   "source": [
    "-   Identify duplicate values in the dataset.\n",
    "\n",
    "-   Remove duplicate values from the dataset.\n",
    "\n",
    "-   Identify missing values in the dataset.\n",
    "\n",
    "-   Impute the missing values in the dataset.\n",
    "\n",
    "-   Normalize data in the dataset.\n"
   ]
  },
  {
   "cell_type": "markdown",
   "metadata": {},
   "source": [
    "<hr>\n"
   ]
  },
  {
   "cell_type": "markdown",
   "metadata": {},
   "source": [
    "## Hands on Lab\n"
   ]
  },
  {
   "cell_type": "markdown",
   "metadata": {},
   "source": [
    "Import pandas module.\n"
   ]
  },
  {
   "cell_type": "code",
   "execution_count": 1,
   "metadata": {
    "tags": []
   },
   "outputs": [],
   "source": [
    "import pandas as pd"
   ]
  },
  {
   "cell_type": "markdown",
   "metadata": {},
   "source": [
    "Load the dataset into a dataframe.\n"
   ]
  },
  {
   "cell_type": "code",
   "execution_count": 2,
   "metadata": {
    "tags": []
   },
   "outputs": [],
   "source": [
    "df = pd.read_csv(\"https://cf-courses-data.s3.us.cloud-object-storage.appdomain.cloud/IBM-DA0321EN-SkillsNetwork/LargeData/m1_survey_data.csv\")"
   ]
  },
  {
   "cell_type": "markdown",
   "metadata": {},
   "source": [
    "## Finding duplicates\n"
   ]
  },
  {
   "cell_type": "markdown",
   "metadata": {},
   "source": [
    "In this section you will identify duplicate values in the dataset.\n"
   ]
  },
  {
   "cell_type": "markdown",
   "metadata": {},
   "source": [
    " Find how many duplicate rows exist in the dataframe.\n"
   ]
  },
  {
   "cell_type": "code",
   "execution_count": 3,
   "metadata": {
    "tags": []
   },
   "outputs": [
    {
     "name": "stdout",
     "output_type": "stream",
     "text": [
      "Number of Duplicated values in column Respondent are 154\n"
     ]
    }
   ],
   "source": [
    "# your code goes here\n",
    "#dup_value = print(\"Number of Duplicated values are:\",df.duplicated().sum())\n",
    "dup_value_in_respondent = print('Number of Duplicated values in column Respondent are',df['Respondent'].duplicated().sum())\n",
    "#dup_value\n",
    "dup_value_in_respondent"
   ]
  },
  {
   "cell_type": "markdown",
   "metadata": {},
   "source": [
    "## Removing duplicates\n"
   ]
  },
  {
   "cell_type": "markdown",
   "metadata": {},
   "source": [
    "Remove the duplicate rows from the dataframe.\n"
   ]
  },
  {
   "cell_type": "code",
   "execution_count": 4,
   "metadata": {
    "tags": []
   },
   "outputs": [
    {
     "data": {
      "text/plain": [
       "0"
      ]
     },
     "execution_count": 4,
     "metadata": {},
     "output_type": "execute_result"
    }
   ],
   "source": [
    "# your code goes here\n",
    "dup_val_after_remove = df.drop_duplicates(inplace=True)\n",
    "dup_val_after_remove\n",
    "df['Country'].isnull().sum()"
   ]
  },
  {
   "cell_type": "markdown",
   "metadata": {},
   "source": [
    "Verify if duplicates were actually dropped.\n"
   ]
  },
  {
   "cell_type": "code",
   "execution_count": 5,
   "metadata": {
    "tags": []
   },
   "outputs": [
    {
     "data": {
      "text/plain": [
       "11398"
      ]
     },
     "execution_count": 5,
     "metadata": {},
     "output_type": "execute_result"
    }
   ],
   "source": [
    "# your code goes here\n",
    "len(df.index)"
   ]
  },
  {
   "cell_type": "code",
   "execution_count": 6,
   "metadata": {
    "tags": []
   },
   "outputs": [
    {
     "data": {
      "text/plain": [
       "0"
      ]
     },
     "execution_count": 6,
     "metadata": {},
     "output_type": "execute_result"
    }
   ],
   "source": [
    "df['Respondent'].duplicated().sum()"
   ]
  },
  {
   "cell_type": "markdown",
   "metadata": {},
   "source": [
    "## Finding Missing values\n"
   ]
  },
  {
   "cell_type": "markdown",
   "metadata": {},
   "source": [
    "Find the missing values for all columns.\n"
   ]
  },
  {
   "cell_type": "code",
   "execution_count": 7,
   "metadata": {
    "tags": []
   },
   "outputs": [
    {
     "data": {
      "text/plain": [
       "112"
      ]
     },
     "execution_count": 7,
     "metadata": {},
     "output_type": "execute_result"
    }
   ],
   "source": [
    "# your code goes here\n",
    "#df.isnull().sum()\n",
    "#how many blank rows are there under the column EdLevel\n",
    "df['EdLevel'].isnull().sum()"
   ]
  },
  {
   "cell_type": "markdown",
   "metadata": {},
   "source": [
    "Find out how many rows are missing in the column 'WorkLoc'\n"
   ]
  },
  {
   "cell_type": "code",
   "execution_count": 8,
   "metadata": {
    "tags": []
   },
   "outputs": [
    {
     "data": {
      "text/plain": [
       "32"
      ]
     },
     "execution_count": 8,
     "metadata": {},
     "output_type": "execute_result"
    }
   ],
   "source": [
    "# your code goes here\n",
    "df['WorkLoc'].isna().sum()\n"
   ]
  },
  {
   "cell_type": "markdown",
   "metadata": {},
   "source": [
    "## Imputing missing values\n"
   ]
  },
  {
   "cell_type": "markdown",
   "metadata": {},
   "source": [
    "Find the  value counts for the column WorkLoc.\n"
   ]
  },
  {
   "cell_type": "code",
   "execution_count": 9,
   "metadata": {
    "tags": []
   },
   "outputs": [
    {
     "data": {
      "text/plain": [
       "Office                                            6806\n",
       "Home                                              3589\n",
       "Other place, such as a coworking space or cafe     971\n",
       "Name: WorkLoc, dtype: int64"
      ]
     },
     "execution_count": 9,
     "metadata": {},
     "output_type": "execute_result"
    }
   ],
   "source": [
    "# your code goes here\n",
    "df['WorkLoc'].value_counts()"
   ]
  },
  {
   "cell_type": "markdown",
   "metadata": {},
   "source": [
    "Identify the value that is most frequent (majority) in the WorkLoc column.\n"
   ]
  },
  {
   "cell_type": "code",
   "execution_count": 12,
   "metadata": {
    "tags": []
   },
   "outputs": [
    {
     "data": {
      "text/plain": [
       "'Office'"
      ]
     },
     "execution_count": 12,
     "metadata": {},
     "output_type": "execute_result"
    }
   ],
   "source": [
    "#make a note of the majority value here, for future reference\n",
    "majority_val = df['WorkLoc'].mode()[0]\n",
    "majority_val\n",
    "#df['Employment'].mode()[0]\n",
    "#Under the column \" UndergradMajor\", which category has the minimum number of rows?\n",
    "#undergradmajor_counts = df['UndergradMajor'].value_counts()\n",
    "#min_category = undergradmajor_counts.idxmin()\n",
    "#min_category"
   ]
  },
  {
   "cell_type": "markdown",
   "metadata": {},
   "source": [
    "Impute (replace) all the empty rows in the column WorkLoc with the value that you have identified as majority.\n"
   ]
  },
  {
   "cell_type": "code",
   "execution_count": 15,
   "metadata": {
    "tags": []
   },
   "outputs": [
    {
     "data": {
      "text/plain": [
       "11398"
      ]
     },
     "execution_count": 15,
     "metadata": {},
     "output_type": "execute_result"
    }
   ],
   "source": [
    "# your code goes here\n",
    "df['WorkLoc'] = df['WorkLoc'].replace('',majority_val,inplace=True)\n",
    "\n",
    "#The column ‘ConvertedComp’ contains the annual compensation of the survey respondents. What is the best approach to impute the missing values in this column? \n",
    "#df[['ConvertedComp']].median()"
   ]
  },
  {
   "cell_type": "markdown",
   "metadata": {},
   "source": [
    "After imputation there should ideally not be any empty rows in the WorkLoc column.\n"
   ]
  },
  {
   "cell_type": "markdown",
   "metadata": {},
   "source": [
    "Verify if imputing was successful.\n"
   ]
  },
  {
   "cell_type": "code",
   "execution_count": 16,
   "metadata": {
    "tags": []
   },
   "outputs": [
    {
     "name": "stdout",
     "output_type": "stream",
     "text": [
      "Imputation was successful. There are no empty rows in the 'WorkLoc' column.\n"
     ]
    }
   ],
   "source": [
    "# your code goes here\n",
    "empty_rows_after_imputation = (df['WorkLoc'] == '').sum()\n",
    "\n",
    "if empty_rows_after_imputation == 0:\n",
    "    print(\"Imputation was successful. There are no empty rows in the 'WorkLoc' column.\")\n",
    "else:\n",
    "    print(\"Imputation was not successful. There are still empty rows in the 'WorkLoc' column.\")"
   ]
  },
  {
   "cell_type": "markdown",
   "metadata": {},
   "source": [
    "## Normalizing data\n"
   ]
  },
  {
   "cell_type": "markdown",
   "metadata": {},
   "source": [
    "There are two columns in the dataset that talk about compensation.\n",
    "\n",
    "One is \"CompFreq\". This column shows how often a developer is paid (Yearly, Monthly, Weekly).\n",
    "\n",
    "The other is \"CompTotal\". This column talks about how much the developer is paid per Year, Month, or Week depending upon his/her \"CompFreq\". \n",
    "\n",
    "This makes it difficult to compare the total compensation of the developers.\n",
    "\n",
    "In this section you will create a new column called 'NormalizedAnnualCompensation' which contains the 'Annual Compensation' irrespective of the 'CompFreq'.\n",
    "\n",
    "Once this column is ready, it makes comparison of salaries easy.\n"
   ]
  },
  {
   "cell_type": "markdown",
   "metadata": {},
   "source": [
    "<hr>\n"
   ]
  },
  {
   "cell_type": "markdown",
   "metadata": {},
   "source": [
    "List out the various categories in the column 'CompFreq'\n"
   ]
  },
  {
   "cell_type": "code",
   "execution_count": 17,
   "metadata": {
    "tags": []
   },
   "outputs": [
    {
     "name": "stdout",
     "output_type": "stream",
     "text": [
      "Various categories in the 'CompFreq' column:\n",
      "Yearly\n",
      "Monthly\n",
      "Weekly\n",
      "nan\n"
     ]
    }
   ],
   "source": [
    "# your code goes here\n",
    "\n",
    "\n",
    "# Assuming you have a DataFrame named 'df' and a column named 'CompFreq'\n",
    "# Get the unique categories in the 'CompFreq' column\n",
    "compfreq_categories = df['CompFreq'].unique()\n",
    "\n",
    "print(\"Various categories in the 'CompFreq' column:\")\n",
    "for category in compfreq_categories:\n",
    "    print(category)\n"
   ]
  },
  {
   "cell_type": "code",
   "execution_count": 199,
   "metadata": {
    "tags": []
   },
   "outputs": [
    {
     "data": {
      "text/plain": [
       "3"
      ]
     },
     "execution_count": 199,
     "metadata": {},
     "output_type": "execute_result"
    }
   ],
   "source": [
    "compfreq_categories = df['CompFreq'].nunique()\n",
    "compfreq_categories"
   ]
  },
  {
   "cell_type": "markdown",
   "metadata": {},
   "source": [
    "Create a new column named 'NormalizedAnnualCompensation'. Use the hint given below if needed.\n"
   ]
  },
  {
   "cell_type": "markdown",
   "metadata": {},
   "source": [
    "Double click to see the **Hint**.\n",
    "\n",
    "<!--\n",
    "\n",
    "Use the below logic to arrive at the values for the column NormalizedAnnualCompensation.\n",
    "\n",
    "If the CompFreq is Yearly then use the exising value in CompTotal\n",
    "If the CompFreq is Monthly then multiply the value in CompTotal with 12 (months in an year)\n",
    "If the CompFreq is Weekly then multiply the value in CompTotal with 52 (weeks in an year)\n",
    "\n",
    "-->\n"
   ]
  },
  {
   "cell_type": "code",
   "execution_count": 18,
   "metadata": {
    "tags": []
   },
   "outputs": [
    {
     "name": "stdout",
     "output_type": "stream",
     "text": [
      "       Respondent                      MainBranch Hobbyist  \\\n",
      "0               4  I am a developer by profession       No   \n",
      "1               9  I am a developer by profession      Yes   \n",
      "2              13  I am a developer by profession      Yes   \n",
      "3              16  I am a developer by profession      Yes   \n",
      "4              17  I am a developer by profession      Yes   \n",
      "...           ...                             ...      ...   \n",
      "11547       25136  I am a developer by profession      Yes   \n",
      "11548       25137  I am a developer by profession      Yes   \n",
      "11549       25138  I am a developer by profession      Yes   \n",
      "11550       25141  I am a developer by profession      Yes   \n",
      "11551       25142  I am a developer by profession      Yes   \n",
      "\n",
      "                                             OpenSourcer  \\\n",
      "0                                                  Never   \n",
      "1                             Once a month or more often   \n",
      "2      Less than once a month but more than once per ...   \n",
      "3                                                  Never   \n",
      "4      Less than once a month but more than once per ...   \n",
      "...                                                  ...   \n",
      "11547                                              Never   \n",
      "11548                                              Never   \n",
      "11549                            Less than once per year   \n",
      "11550  Less than once a month but more than once per ...   \n",
      "11551  Less than once a month but more than once per ...   \n",
      "\n",
      "                                              OpenSource          Employment  \\\n",
      "0      The quality of OSS and closed source software ...  Employed full-time   \n",
      "1      The quality of OSS and closed source software ...  Employed full-time   \n",
      "2      OSS is, on average, of HIGHER quality than pro...  Employed full-time   \n",
      "3      The quality of OSS and closed source software ...  Employed full-time   \n",
      "4      The quality of OSS and closed source software ...  Employed full-time   \n",
      "...                                                  ...                 ...   \n",
      "11547  OSS is, on average, of HIGHER quality than pro...  Employed full-time   \n",
      "11548  The quality of OSS and closed source software ...  Employed full-time   \n",
      "11549  The quality of OSS and closed source software ...  Employed full-time   \n",
      "11550  OSS is, on average, of LOWER quality than prop...  Employed full-time   \n",
      "11551  OSS is, on average, of HIGHER quality than pro...  Employed full-time   \n",
      "\n",
      "              Country Student  \\\n",
      "0       United States      No   \n",
      "1         New Zealand      No   \n",
      "2       United States      No   \n",
      "3      United Kingdom      No   \n",
      "4           Australia      No   \n",
      "...               ...     ...   \n",
      "11547   United States      No   \n",
      "11548          Poland      No   \n",
      "11549   United States      No   \n",
      "11550     Switzerland      No   \n",
      "11551  United Kingdom      No   \n",
      "\n",
      "                                                 EdLevel  \\\n",
      "0               Bachelor’s degree (BA, BS, B.Eng., etc.)   \n",
      "1      Some college/university study without earning ...   \n",
      "2            Master’s degree (MA, MS, M.Eng., MBA, etc.)   \n",
      "3            Master’s degree (MA, MS, M.Eng., MBA, etc.)   \n",
      "4               Bachelor’s degree (BA, BS, B.Eng., etc.)   \n",
      "...                                                  ...   \n",
      "11547        Master’s degree (MA, MS, M.Eng., MBA, etc.)   \n",
      "11548        Master’s degree (MA, MS, M.Eng., MBA, etc.)   \n",
      "11549        Master’s degree (MA, MS, M.Eng., MBA, etc.)   \n",
      "11550  Secondary school (e.g. American high school, G...   \n",
      "11551          Other doctoral degree (Ph.D, Ed.D., etc.)   \n",
      "\n",
      "                                          UndergradMajor  ...  \\\n",
      "0      Computer science, computer engineering, or sof...  ...   \n",
      "1      Computer science, computer engineering, or sof...  ...   \n",
      "2      Computer science, computer engineering, or sof...  ...   \n",
      "3                                                    NaN  ...   \n",
      "4      Computer science, computer engineering, or sof...  ...   \n",
      "...                                                  ...  ...   \n",
      "11547  Computer science, computer engineering, or sof...  ...   \n",
      "11548  Computer science, computer engineering, or sof...  ...   \n",
      "11549  Computer science, computer engineering, or sof...  ...   \n",
      "11550                                                NaN  ...   \n",
      "11551  A natural science (ex. biology, chemistry, phy...  ...   \n",
      "\n",
      "                                            SONewContent   Age Gender Trans  \\\n",
      "0      Tech articles written by other developers;Indu...  22.0    Man    No   \n",
      "1                                                    NaN  23.0    Man    No   \n",
      "2      Tech articles written by other developers;Cour...  28.0    Man    No   \n",
      "3      Tech articles written by other developers;Indu...  26.0    Man    No   \n",
      "4      Tech articles written by other developers;Indu...  29.0    Man    No   \n",
      "...                                                  ...   ...    ...   ...   \n",
      "11547  Tech articles written by other developers;Cour...  36.0    Man    No   \n",
      "11548  Tech articles written by other developers;Tech...  25.0    Man    No   \n",
      "11549  Tech articles written by other developers;Indu...  34.0    Man    No   \n",
      "11550                                                NaN  25.0    Man    No   \n",
      "11551  Tech articles written by other developers;Tech...  30.0    Man    No   \n",
      "\n",
      "                     Sexuality                              Ethnicity  \\\n",
      "0      Straight / Heterosexual           White or of European descent   \n",
      "1                     Bisexual           White or of European descent   \n",
      "2      Straight / Heterosexual           White or of European descent   \n",
      "3      Straight / Heterosexual           White or of European descent   \n",
      "4      Straight / Heterosexual  Hispanic or Latino/Latina;Multiracial   \n",
      "...                        ...                                    ...   \n",
      "11547  Straight / Heterosexual           White or of European descent   \n",
      "11548  Straight / Heterosexual           White or of European descent   \n",
      "11549  Straight / Heterosexual           White or of European descent   \n",
      "11550  Straight / Heterosexual           White or of European descent   \n",
      "11551                 Bisexual           White or of European descent   \n",
      "\n",
      "      Dependents           SurveyLength                  SurveyEase  \\\n",
      "0             No  Appropriate in length                        Easy   \n",
      "1             No  Appropriate in length  Neither easy nor difficult   \n",
      "2            Yes  Appropriate in length                        Easy   \n",
      "3             No  Appropriate in length  Neither easy nor difficult   \n",
      "4             No  Appropriate in length                        Easy   \n",
      "...          ...                    ...                         ...   \n",
      "11547         No  Appropriate in length                   Difficult   \n",
      "11548         No  Appropriate in length  Neither easy nor difficult   \n",
      "11549        Yes               Too long                        Easy   \n",
      "11550         No  Appropriate in length                        Easy   \n",
      "11551         No  Appropriate in length                        Easy   \n",
      "\n",
      "      NormalizedAnnualCompensation  \n",
      "0                          61000.0  \n",
      "1                         138000.0  \n",
      "2                          90000.0  \n",
      "3                         348000.0  \n",
      "4                          90000.0  \n",
      "...                            ...  \n",
      "11547                     130000.0  \n",
      "11548                      74400.0  \n",
      "11549                     105000.0  \n",
      "11550                      80000.0  \n",
      "11551                          NaN  \n",
      "\n",
      "[11398 rows x 86 columns]\n"
     ]
    }
   ],
   "source": [
    "# your code goes here\n",
    "import pandas as pd\n",
    "\n",
    "# Assuming you have a DataFrame named 'df' and columns named 'CompFreq' and 'CompTotal'\n",
    "# Create a new column 'NormalizedAnnualCompensation' using the given logic\n",
    "def normalize_compensation(row):\n",
    "    if row['CompFreq'] == 'Yearly':\n",
    "        return row['CompTotal']\n",
    "    elif row['CompFreq'] == 'Monthly':\n",
    "        return row['CompTotal'] * 12\n",
    "    elif row['CompFreq'] == 'Weekly':\n",
    "        return row['CompTotal'] * 52\n",
    "    else:\n",
    "        return None  # Handle cases where CompFreq is not specified\n",
    "\n",
    "df['NormalizedAnnualCompensation'] = df.apply(normalize_compensation, axis=1)\n",
    "\n",
    "# Display the DataFrame with the new column\n",
    "print(df)\n"
   ]
  },
  {
   "cell_type": "code",
   "execution_count": 200,
   "metadata": {
    "tags": []
   },
   "outputs": [
    {
     "name": "stdout",
     "output_type": "stream",
     "text": [
      "Number of respondents being paid yearly after removing duplicate rows: 6073\n"
     ]
    }
   ],
   "source": [
    "#df['NormalizedAnnualCompensation'].median()\n",
    "\n",
    "\n",
    "# Assuming you have a DataFrame named 'df' with columns including 'CompFreq'\n",
    "# Remove duplicate rows\n",
    "df_no_duplicates = df.drop_duplicates()\n",
    "\n",
    "# Count the occurrences of 'Yearly' in the 'CompFreq' column after removing duplicates\n",
    "num_yearly_paid = df_no_duplicates[df_no_duplicates['CompFreq'] == 'Yearly'].shape[0]\n",
    "\n",
    "print(\"Number of respondents being paid yearly after removing duplicate rows:\", num_yearly_paid)\n"
   ]
  },
  {
   "cell_type": "markdown",
   "metadata": {},
   "source": [
    "## Authors\n"
   ]
  },
  {
   "cell_type": "markdown",
   "metadata": {},
   "source": [
    "Ramesh Sannareddy\n"
   ]
  },
  {
   "cell_type": "markdown",
   "metadata": {},
   "source": [
    "### Other Contributors\n"
   ]
  },
  {
   "cell_type": "markdown",
   "metadata": {},
   "source": [
    "Rav Ahuja\n"
   ]
  },
  {
   "cell_type": "markdown",
   "metadata": {},
   "source": [
    "## Change Log\n"
   ]
  },
  {
   "cell_type": "markdown",
   "metadata": {},
   "source": [
    "| Date (YYYY-MM-DD) | Version | Changed By        | Change Description                 |\n",
    "| ----------------- | ------- | ----------------- | ---------------------------------- |\n",
    "| 2020-10-17        | 0.1     | Ramesh Sannareddy | Created initial version of the lab |\n"
   ]
  },
  {
   "cell_type": "markdown",
   "metadata": {},
   "source": [
    " Copyright © 2020 IBM Corporation. This notebook and its source code are released under the terms of the [MIT License](https://cognitiveclass.ai/mit-license?utm_medium=Exinfluencer&utm_source=Exinfluencer&utm_content=000026UJ&utm_term=10006555&utm_id=NA-SkillsNetwork-Channel-SkillsNetworkCoursesIBMDA0321ENSkillsNetwork928-2022-01-01&cm_mmc=Email_Newsletter-_-Developer_Ed%2BTech-_-WW_WW-_-SkillsNetwork-Courses-IBM-DA0321EN-SkillsNetwork-21426264&cm_mmca1=000026UJ&cm_mmca2=10006555&cm_mmca3=M12345678&cvosrc=email.Newsletter.M12345678&cvo_campaign=000026UJ).\n"
   ]
  },
  {
   "cell_type": "code",
   "execution_count": null,
   "metadata": {},
   "outputs": [],
   "source": []
  },
  {
   "cell_type": "code",
   "execution_count": null,
   "metadata": {},
   "outputs": [],
   "source": []
  },
  {
   "cell_type": "code",
   "execution_count": null,
   "metadata": {},
   "outputs": [],
   "source": []
  },
  {
   "cell_type": "code",
   "execution_count": null,
   "metadata": {},
   "outputs": [],
   "source": []
  },
  {
   "cell_type": "code",
   "execution_count": null,
   "metadata": {},
   "outputs": [],
   "source": []
  },
  {
   "cell_type": "code",
   "execution_count": null,
   "metadata": {},
   "outputs": [],
   "source": []
  },
  {
   "cell_type": "code",
   "execution_count": null,
   "metadata": {},
   "outputs": [],
   "source": []
  },
  {
   "cell_type": "code",
   "execution_count": null,
   "metadata": {},
   "outputs": [],
   "source": []
  },
  {
   "cell_type": "code",
   "execution_count": null,
   "metadata": {},
   "outputs": [],
   "source": []
  },
  {
   "cell_type": "code",
   "execution_count": null,
   "metadata": {},
   "outputs": [],
   "source": []
  },
  {
   "cell_type": "code",
   "execution_count": null,
   "metadata": {},
   "outputs": [],
   "source": []
  },
  {
   "cell_type": "code",
   "execution_count": null,
   "metadata": {},
   "outputs": [],
   "source": []
  },
  {
   "cell_type": "code",
   "execution_count": null,
   "metadata": {},
   "outputs": [],
   "source": []
  }
 ],
 "metadata": {
  "kernelspec": {
   "display_name": "Python",
   "language": "python",
   "name": "conda-env-python-py"
  },
  "language_info": {
   "codemirror_mode": {
    "name": "ipython",
    "version": 3
   },
   "file_extension": ".py",
   "mimetype": "text/x-python",
   "name": "python",
   "nbconvert_exporter": "python",
   "pygments_lexer": "ipython3",
   "version": "3.7.12"
  }
 },
 "nbformat": 4,
 "nbformat_minor": 4
}
